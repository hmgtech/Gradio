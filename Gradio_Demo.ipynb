{
  "nbformat": 4,
  "nbformat_minor": 0,
  "metadata": {
    "colab": {
      "name": "Gradio_Demo.ipynb",
      "provenance": []
    },
    "kernelspec": {
      "name": "python3",
      "display_name": "Python 3"
    }
  },
  "cells": [
    {
      "cell_type": "code",
      "metadata": {
        "id": "HsCVMNNDZI5x",
        "outputId": "f68e2b84-96c2-4ca2-8864-1088d10e1900",
        "colab": {
          "base_uri": "https://localhost:8080/",
          "height": 1000
        }
      },
      "source": [
        "!pip install gradio"
      ],
      "execution_count": 1,
      "outputs": [
        {
          "output_type": "stream",
          "text": [
            "Collecting gradio\n",
            "\u001b[?25l  Downloading https://files.pythonhosted.org/packages/39/08/e00fb3038c60a8954d026cdb65ba26b20f0497eeded039e212681c647e67/gradio-1.2.3-py3-none-any.whl (1.0MB)\n",
            "\r\u001b[K     |▎                               | 10kB 15.0MB/s eta 0:00:01\r\u001b[K     |▋                               | 20kB 2.7MB/s eta 0:00:01\r\u001b[K     |█                               | 30kB 3.8MB/s eta 0:00:01\r\u001b[K     |█▎                              | 40kB 4.1MB/s eta 0:00:01\r\u001b[K     |█▋                              | 51kB 3.2MB/s eta 0:00:01\r\u001b[K     |██                              | 61kB 3.7MB/s eta 0:00:01\r\u001b[K     |██▎                             | 71kB 3.8MB/s eta 0:00:01\r\u001b[K     |██▋                             | 81kB 4.2MB/s eta 0:00:01\r\u001b[K     |███                             | 92kB 4.3MB/s eta 0:00:01\r\u001b[K     |███▎                            | 102kB 4.4MB/s eta 0:00:01\r\u001b[K     |███▋                            | 112kB 4.4MB/s eta 0:00:01\r\u001b[K     |████                            | 122kB 4.4MB/s eta 0:00:01\r\u001b[K     |████▎                           | 133kB 4.4MB/s eta 0:00:01\r\u001b[K     |████▋                           | 143kB 4.4MB/s eta 0:00:01\r\u001b[K     |█████                           | 153kB 4.4MB/s eta 0:00:01\r\u001b[K     |█████▎                          | 163kB 4.4MB/s eta 0:00:01\r\u001b[K     |█████▌                          | 174kB 4.4MB/s eta 0:00:01\r\u001b[K     |█████▉                          | 184kB 4.4MB/s eta 0:00:01\r\u001b[K     |██████▏                         | 194kB 4.4MB/s eta 0:00:01\r\u001b[K     |██████▌                         | 204kB 4.4MB/s eta 0:00:01\r\u001b[K     |██████▉                         | 215kB 4.4MB/s eta 0:00:01\r\u001b[K     |███████▏                        | 225kB 4.4MB/s eta 0:00:01\r\u001b[K     |███████▌                        | 235kB 4.4MB/s eta 0:00:01\r\u001b[K     |███████▉                        | 245kB 4.4MB/s eta 0:00:01\r\u001b[K     |████████▏                       | 256kB 4.4MB/s eta 0:00:01\r\u001b[K     |████████▌                       | 266kB 4.4MB/s eta 0:00:01\r\u001b[K     |████████▉                       | 276kB 4.4MB/s eta 0:00:01\r\u001b[K     |█████████▏                      | 286kB 4.4MB/s eta 0:00:01\r\u001b[K     |█████████▌                      | 296kB 4.4MB/s eta 0:00:01\r\u001b[K     |█████████▉                      | 307kB 4.4MB/s eta 0:00:01\r\u001b[K     |██████████▏                     | 317kB 4.4MB/s eta 0:00:01\r\u001b[K     |██████████▌                     | 327kB 4.4MB/s eta 0:00:01\r\u001b[K     |██████████▉                     | 337kB 4.4MB/s eta 0:00:01\r\u001b[K     |███████████                     | 348kB 4.4MB/s eta 0:00:01\r\u001b[K     |███████████▍                    | 358kB 4.4MB/s eta 0:00:01\r\u001b[K     |███████████▊                    | 368kB 4.4MB/s eta 0:00:01\r\u001b[K     |████████████                    | 378kB 4.4MB/s eta 0:00:01\r\u001b[K     |████████████▍                   | 389kB 4.4MB/s eta 0:00:01\r\u001b[K     |████████████▊                   | 399kB 4.4MB/s eta 0:00:01\r\u001b[K     |█████████████                   | 409kB 4.4MB/s eta 0:00:01\r\u001b[K     |█████████████▍                  | 419kB 4.4MB/s eta 0:00:01\r\u001b[K     |█████████████▊                  | 430kB 4.4MB/s eta 0:00:01\r\u001b[K     |██████████████                  | 440kB 4.4MB/s eta 0:00:01\r\u001b[K     |██████████████▍                 | 450kB 4.4MB/s eta 0:00:01\r\u001b[K     |██████████████▊                 | 460kB 4.4MB/s eta 0:00:01\r\u001b[K     |███████████████                 | 471kB 4.4MB/s eta 0:00:01\r\u001b[K     |███████████████▍                | 481kB 4.4MB/s eta 0:00:01\r\u001b[K     |███████████████▊                | 491kB 4.4MB/s eta 0:00:01\r\u001b[K     |████████████████                | 501kB 4.4MB/s eta 0:00:01\r\u001b[K     |████████████████▎               | 512kB 4.4MB/s eta 0:00:01\r\u001b[K     |████████████████▋               | 522kB 4.4MB/s eta 0:00:01\r\u001b[K     |█████████████████               | 532kB 4.4MB/s eta 0:00:01\r\u001b[K     |█████████████████▎              | 542kB 4.4MB/s eta 0:00:01\r\u001b[K     |█████████████████▋              | 552kB 4.4MB/s eta 0:00:01\r\u001b[K     |██████████████████              | 563kB 4.4MB/s eta 0:00:01\r\u001b[K     |██████████████████▎             | 573kB 4.4MB/s eta 0:00:01\r\u001b[K     |██████████████████▋             | 583kB 4.4MB/s eta 0:00:01\r\u001b[K     |███████████████████             | 593kB 4.4MB/s eta 0:00:01\r\u001b[K     |███████████████████▎            | 604kB 4.4MB/s eta 0:00:01\r\u001b[K     |███████████████████▋            | 614kB 4.4MB/s eta 0:00:01\r\u001b[K     |████████████████████            | 624kB 4.4MB/s eta 0:00:01\r\u001b[K     |████████████████████▎           | 634kB 4.4MB/s eta 0:00:01\r\u001b[K     |████████████████████▋           | 645kB 4.4MB/s eta 0:00:01\r\u001b[K     |█████████████████████           | 655kB 4.4MB/s eta 0:00:01\r\u001b[K     |█████████████████████▎          | 665kB 4.4MB/s eta 0:00:01\r\u001b[K     |█████████████████████▋          | 675kB 4.4MB/s eta 0:00:01\r\u001b[K     |█████████████████████▉          | 686kB 4.4MB/s eta 0:00:01\r\u001b[K     |██████████████████████▏         | 696kB 4.4MB/s eta 0:00:01\r\u001b[K     |██████████████████████▌         | 706kB 4.4MB/s eta 0:00:01\r\u001b[K     |██████████████████████▉         | 716kB 4.4MB/s eta 0:00:01\r\u001b[K     |███████████████████████▏        | 727kB 4.4MB/s eta 0:00:01\r\u001b[K     |███████████████████████▌        | 737kB 4.4MB/s eta 0:00:01\r\u001b[K     |███████████████████████▉        | 747kB 4.4MB/s eta 0:00:01\r\u001b[K     |████████████████████████▏       | 757kB 4.4MB/s eta 0:00:01\r\u001b[K     |████████████████████████▌       | 768kB 4.4MB/s eta 0:00:01\r\u001b[K     |████████████████████████▉       | 778kB 4.4MB/s eta 0:00:01\r\u001b[K     |█████████████████████████▏      | 788kB 4.4MB/s eta 0:00:01\r\u001b[K     |█████████████████████████▌      | 798kB 4.4MB/s eta 0:00:01\r\u001b[K     |█████████████████████████▉      | 808kB 4.4MB/s eta 0:00:01\r\u001b[K     |██████████████████████████▏     | 819kB 4.4MB/s eta 0:00:01\r\u001b[K     |██████████████████████████▌     | 829kB 4.4MB/s eta 0:00:01\r\u001b[K     |██████████████████████████▉     | 839kB 4.4MB/s eta 0:00:01\r\u001b[K     |███████████████████████████     | 849kB 4.4MB/s eta 0:00:01\r\u001b[K     |███████████████████████████▍    | 860kB 4.4MB/s eta 0:00:01\r\u001b[K     |███████████████████████████▊    | 870kB 4.4MB/s eta 0:00:01\r\u001b[K     |████████████████████████████    | 880kB 4.4MB/s eta 0:00:01\r\u001b[K     |████████████████████████████▍   | 890kB 4.4MB/s eta 0:00:01\r\u001b[K     |████████████████████████████▊   | 901kB 4.4MB/s eta 0:00:01\r\u001b[K     |█████████████████████████████   | 911kB 4.4MB/s eta 0:00:01\r\u001b[K     |█████████████████████████████▍  | 921kB 4.4MB/s eta 0:00:01\r\u001b[K     |█████████████████████████████▊  | 931kB 4.4MB/s eta 0:00:01\r\u001b[K     |██████████████████████████████  | 942kB 4.4MB/s eta 0:00:01\r\u001b[K     |██████████████████████████████▍ | 952kB 4.4MB/s eta 0:00:01\r\u001b[K     |██████████████████████████████▊ | 962kB 4.4MB/s eta 0:00:01\r\u001b[K     |███████████████████████████████ | 972kB 4.4MB/s eta 0:00:01\r\u001b[K     |███████████████████████████████▍| 983kB 4.4MB/s eta 0:00:01\r\u001b[K     |███████████████████████████████▊| 993kB 4.4MB/s eta 0:00:01\r\u001b[K     |████████████████████████████████| 1.0MB 4.4MB/s \n",
            "\u001b[?25hRequirement already satisfied: scikit-image in /usr/local/lib/python3.6/dist-packages (from gradio) (0.16.2)\n",
            "Requirement already satisfied: IPython in /usr/local/lib/python3.6/dist-packages (from gradio) (5.5.0)\n",
            "Requirement already satisfied: flask in /usr/local/lib/python3.6/dist-packages (from gradio) (1.1.2)\n",
            "Collecting paramiko\n",
            "\u001b[?25l  Downloading https://files.pythonhosted.org/packages/95/19/124e9287b43e6ff3ebb9cdea3e5e8e88475a873c05ccdf8b7e20d2c4201e/paramiko-2.7.2-py2.py3-none-any.whl (206kB)\n",
            "\u001b[K     |████████████████████████████████| 215kB 26.4MB/s \n",
            "\u001b[?25hRequirement already satisfied: scipy in /usr/local/lib/python3.6/dist-packages (from gradio) (1.4.1)\n",
            "Requirement already satisfied: numpy in /usr/local/lib/python3.6/dist-packages (from gradio) (1.18.5)\n",
            "Requirement already satisfied: requests in /usr/local/lib/python3.6/dist-packages (from gradio) (2.23.0)\n",
            "Requirement already satisfied: pandas in /usr/local/lib/python3.6/dist-packages (from gradio) (1.1.2)\n",
            "Collecting analytics-python\n",
            "  Downloading https://files.pythonhosted.org/packages/d3/37/c49d052f88655cd96445c36979fb63f69ef859e167eaff5706ca7c8a8ee3/analytics_python-1.2.9-py2.py3-none-any.whl\n",
            "Requirement already satisfied: PyWavelets>=0.4.0 in /usr/local/lib/python3.6/dist-packages (from scikit-image->gradio) (1.1.1)\n",
            "Requirement already satisfied: networkx>=2.0 in /usr/local/lib/python3.6/dist-packages (from scikit-image->gradio) (2.5)\n",
            "Requirement already satisfied: matplotlib!=3.0.0,>=2.0.0 in /usr/local/lib/python3.6/dist-packages (from scikit-image->gradio) (3.2.2)\n",
            "Requirement already satisfied: imageio>=2.3.0 in /usr/local/lib/python3.6/dist-packages (from scikit-image->gradio) (2.4.1)\n",
            "Requirement already satisfied: pillow>=4.3.0 in /usr/local/lib/python3.6/dist-packages (from scikit-image->gradio) (7.0.0)\n",
            "Requirement already satisfied: traitlets>=4.2 in /usr/local/lib/python3.6/dist-packages (from IPython->gradio) (4.3.3)\n",
            "Requirement already satisfied: decorator in /usr/local/lib/python3.6/dist-packages (from IPython->gradio) (4.4.2)\n",
            "Requirement already satisfied: pygments in /usr/local/lib/python3.6/dist-packages (from IPython->gradio) (2.6.1)\n",
            "Requirement already satisfied: setuptools>=18.5 in /usr/local/lib/python3.6/dist-packages (from IPython->gradio) (50.3.0)\n",
            "Requirement already satisfied: pexpect; sys_platform != \"win32\" in /usr/local/lib/python3.6/dist-packages (from IPython->gradio) (4.8.0)\n",
            "Requirement already satisfied: pickleshare in /usr/local/lib/python3.6/dist-packages (from IPython->gradio) (0.7.5)\n",
            "Requirement already satisfied: prompt-toolkit<2.0.0,>=1.0.4 in /usr/local/lib/python3.6/dist-packages (from IPython->gradio) (1.0.18)\n",
            "Requirement already satisfied: simplegeneric>0.8 in /usr/local/lib/python3.6/dist-packages (from IPython->gradio) (0.8.1)\n",
            "Requirement already satisfied: Jinja2>=2.10.1 in /usr/local/lib/python3.6/dist-packages (from flask->gradio) (2.11.2)\n",
            "Requirement already satisfied: itsdangerous>=0.24 in /usr/local/lib/python3.6/dist-packages (from flask->gradio) (1.1.0)\n",
            "Requirement already satisfied: Werkzeug>=0.15 in /usr/local/lib/python3.6/dist-packages (from flask->gradio) (1.0.1)\n",
            "Requirement already satisfied: click>=5.1 in /usr/local/lib/python3.6/dist-packages (from flask->gradio) (7.1.2)\n",
            "Collecting pynacl>=1.0.1\n",
            "\u001b[?25l  Downloading https://files.pythonhosted.org/packages/9d/57/2f5e6226a674b2bcb6db531e8b383079b678df5b10cdaa610d6cf20d77ba/PyNaCl-1.4.0-cp35-abi3-manylinux1_x86_64.whl (961kB)\n",
            "\u001b[K     |████████████████████████████████| 962kB 22.8MB/s \n",
            "\u001b[?25hCollecting bcrypt>=3.1.3\n",
            "\u001b[?25l  Downloading https://files.pythonhosted.org/packages/26/70/6d218afbe4c73538053c1016dd631e8f25fffc10cd01f5c272d7acf3c03d/bcrypt-3.2.0-cp36-abi3-manylinux2010_x86_64.whl (63kB)\n",
            "\u001b[K     |████████████████████████████████| 71kB 7.1MB/s \n",
            "\u001b[?25hCollecting cryptography>=2.5\n",
            "\u001b[?25l  Downloading https://files.pythonhosted.org/packages/33/62/30f6936941d87a5ed72efb24249437824f6b2c953901245b58c91fde2f27/cryptography-3.1.1-cp35-abi3-manylinux2010_x86_64.whl (2.6MB)\n",
            "\u001b[K     |████████████████████████████████| 2.6MB 36.6MB/s \n",
            "\u001b[?25hRequirement already satisfied: urllib3!=1.25.0,!=1.25.1,<1.26,>=1.21.1 in /usr/local/lib/python3.6/dist-packages (from requests->gradio) (1.24.3)\n",
            "Requirement already satisfied: certifi>=2017.4.17 in /usr/local/lib/python3.6/dist-packages (from requests->gradio) (2020.6.20)\n",
            "Requirement already satisfied: chardet<4,>=3.0.2 in /usr/local/lib/python3.6/dist-packages (from requests->gradio) (3.0.4)\n",
            "Requirement already satisfied: idna<3,>=2.5 in /usr/local/lib/python3.6/dist-packages (from requests->gradio) (2.10)\n",
            "Requirement already satisfied: python-dateutil>=2.7.3 in /usr/local/lib/python3.6/dist-packages (from pandas->gradio) (2.8.1)\n",
            "Requirement already satisfied: pytz>=2017.2 in /usr/local/lib/python3.6/dist-packages (from pandas->gradio) (2018.9)\n",
            "Requirement already satisfied: six>=1.5 in /usr/local/lib/python3.6/dist-packages (from analytics-python->gradio) (1.15.0)\n",
            "Requirement already satisfied: kiwisolver>=1.0.1 in /usr/local/lib/python3.6/dist-packages (from matplotlib!=3.0.0,>=2.0.0->scikit-image->gradio) (1.2.0)\n",
            "Requirement already satisfied: cycler>=0.10 in /usr/local/lib/python3.6/dist-packages (from matplotlib!=3.0.0,>=2.0.0->scikit-image->gradio) (0.10.0)\n",
            "Requirement already satisfied: pyparsing!=2.0.4,!=2.1.2,!=2.1.6,>=2.0.1 in /usr/local/lib/python3.6/dist-packages (from matplotlib!=3.0.0,>=2.0.0->scikit-image->gradio) (2.4.7)\n",
            "Requirement already satisfied: ipython-genutils in /usr/local/lib/python3.6/dist-packages (from traitlets>=4.2->IPython->gradio) (0.2.0)\n",
            "Requirement already satisfied: ptyprocess>=0.5 in /usr/local/lib/python3.6/dist-packages (from pexpect; sys_platform != \"win32\"->IPython->gradio) (0.6.0)\n",
            "Requirement already satisfied: wcwidth in /usr/local/lib/python3.6/dist-packages (from prompt-toolkit<2.0.0,>=1.0.4->IPython->gradio) (0.2.5)\n",
            "Requirement already satisfied: MarkupSafe>=0.23 in /usr/local/lib/python3.6/dist-packages (from Jinja2>=2.10.1->flask->gradio) (1.1.1)\n",
            "Requirement already satisfied: cffi>=1.4.1 in /usr/local/lib/python3.6/dist-packages (from pynacl>=1.0.1->paramiko->gradio) (1.14.3)\n",
            "Requirement already satisfied: pycparser in /usr/local/lib/python3.6/dist-packages (from cffi>=1.4.1->pynacl>=1.0.1->paramiko->gradio) (2.20)\n",
            "Installing collected packages: pynacl, bcrypt, cryptography, paramiko, analytics-python, gradio\n",
            "Successfully installed analytics-python-1.2.9 bcrypt-3.2.0 cryptography-3.1.1 gradio-1.2.3 paramiko-2.7.2 pynacl-1.4.0\n"
          ],
          "name": "stdout"
        }
      ]
    },
    {
      "cell_type": "code",
      "metadata": {
        "id": "vp4NbthgZNvq",
        "outputId": "78248e9f-8bce-4f2e-973b-a49df621b381",
        "colab": {
          "base_uri": "https://localhost:8080/",
          "height": 50
        }
      },
      "source": [
        "import tensorflow as tf\n",
        "import gradio as gr\n",
        "(x_train, y_train), (x_test, y_test) = tf.keras.datasets.mnist.load_data()\n",
        "x_train = x_train / 255.0, \n",
        "x_test = x_test / 255.0\n",
        "\n",
        "model = tf.keras.models.Sequential([\n",
        "  tf.keras.layers.Flatten(input_shape=(28, 28)),\n",
        "  tf.keras.layers.Dense(128,activation='relu'),\n",
        "  tf.keras.layers.Dense(10, activation='softmax')\n",
        "])"
      ],
      "execution_count": 2,
      "outputs": [
        {
          "output_type": "stream",
          "text": [
            "Downloading data from https://storage.googleapis.com/tensorflow/tf-keras-datasets/mnist.npz\n",
            "11493376/11490434 [==============================] - 0s 0us/step\n"
          ],
          "name": "stdout"
        }
      ]
    },
    {
      "cell_type": "code",
      "metadata": {
        "id": "qcWCfe-6ZScl",
        "outputId": "63f30c31-4fd9-4ee4-fc70-ed95cd1af26e",
        "colab": {
          "base_uri": "https://localhost:8080/",
          "height": 212
        }
      },
      "source": [
        "model.compile(optimizer='adam', loss='sparse_categorical_crossentropy', metrics=['accuracy'])\n",
        "model.fit(x_train, y_train, validation_data=(x_test, y_test), epochs=6)\n",
        "\n",
        "def classify(image):\n",
        "    prediction = model.predict(image).tolist()[0]\n",
        "    return {str(i): prediction[i] for i in range(10)}\n",
        "    "
      ],
      "execution_count": 3,
      "outputs": [
        {
          "output_type": "stream",
          "text": [
            "Epoch 1/6\n",
            "1875/1875 [==============================] - 4s 2ms/step - loss: 0.2589 - accuracy: 0.9261 - val_loss: 0.1316 - val_accuracy: 0.9624\n",
            "Epoch 2/6\n",
            "1875/1875 [==============================] - 4s 2ms/step - loss: 0.1106 - accuracy: 0.9674 - val_loss: 0.0978 - val_accuracy: 0.9690\n",
            "Epoch 3/6\n",
            "1875/1875 [==============================] - 4s 2ms/step - loss: 0.0760 - accuracy: 0.9772 - val_loss: 0.0814 - val_accuracy: 0.9728\n",
            "Epoch 4/6\n",
            "1875/1875 [==============================] - 4s 2ms/step - loss: 0.0574 - accuracy: 0.9824 - val_loss: 0.0742 - val_accuracy: 0.9758\n",
            "Epoch 5/6\n",
            "1875/1875 [==============================] - 4s 2ms/step - loss: 0.0443 - accuracy: 0.9862 - val_loss: 0.0791 - val_accuracy: 0.9762\n",
            "Epoch 6/6\n",
            "1875/1875 [==============================] - 4s 2ms/step - loss: 0.0351 - accuracy: 0.9890 - val_loss: 0.0826 - val_accuracy: 0.9750\n"
          ],
          "name": "stdout"
        }
      ]
    },
    {
      "cell_type": "code",
      "metadata": {
        "id": "wIfW943LZUx-"
      },
      "source": [
        "sketchpad = gr.inputs.Sketchpad()\n",
        "label = gr.outputs.Label(num_top_classes=3)\n",
        "interface = gr.Interface(classify, sketchpad, label, live=True, capture_session=True)\n"
      ],
      "execution_count": 4,
      "outputs": []
    },
    {
      "cell_type": "code",
      "metadata": {
        "id": "pHl1GzjYZW82",
        "outputId": "be502ae7-f6c2-445b-a079-3ffd473c2f84",
        "colab": {
          "base_uri": "https://localhost:8080/",
          "height": 586
        }
      },
      "source": [
        "interface.launch(share=True);"
      ],
      "execution_count": 5,
      "outputs": [
        {
          "output_type": "stream",
          "text": [
            "Colab notebook detected. To show errors in colab notebook, set debug=True in launch()\n",
            "This share link will expire in 6 hours. If you need a permanent link, email support@gradio.app\n",
            "Running on External URL: https://47168.gradio.app\n",
            "Interface loading below...\n"
          ],
          "name": "stdout"
        },
        {
          "output_type": "display_data",
          "data": {
            "text/html": [
              "\n",
              "        <iframe\n",
              "            width=\"1000\"\n",
              "            height=\"500\"\n",
              "            src=\"https://47168.gradio.app\"\n",
              "            frameborder=\"0\"\n",
              "            allowfullscreen\n",
              "        ></iframe>\n",
              "        "
            ],
            "text/plain": [
              "<IPython.lib.display.IFrame at 0x7f969ea36748>"
            ]
          },
          "metadata": {
            "tags": []
          }
        }
      ]
    },
    {
      "cell_type": "code",
      "metadata": {
        "id": "vcyfPri8ZXS6"
      },
      "source": [
        ""
      ],
      "execution_count": null,
      "outputs": []
    }
  ]
}